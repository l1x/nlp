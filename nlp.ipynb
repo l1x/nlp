{
 "cells": [
  {
   "cell_type": "code",
   "execution_count": 1,
   "metadata": {
    "collapsed": false
   },
   "outputs": [],
   "source": [
    "import pandas as pd\n",
    "import seaborn as sbn\n",
    "import matplotlib.pyplot as plt\n",
    "sbn.set(style=\"whitegrid\")\n",
    "%matplotlib inline\n",
    "from pandas import DataFrame, Series\n",
    "import numpy as np\n",
    "import re\n",
    "import nltk\n",
    "from nltk.corpus import stopwords"
   ]
  },
  {
   "cell_type": "markdown",
   "metadata": {},
   "source": [
    "The file had to be cleaned up before using it on MacOS\n",
    "\n",
    "- ```dos2unix airline_tweets.csv```\n",
    "- ```sed -i 's/,$//' airline_tweets.csv```\n",
    "\n",
    "After that we can move forward and import it in Pandas"
   ]
  },
  {
   "cell_type": "code",
   "execution_count": 2,
   "metadata": {
    "collapsed": false
   },
   "outputs": [
    {
     "data": {
      "text/plain": [
       "tweet_id            int64\n",
       "tweet_created      object\n",
       "name               object\n",
       "tweet_location     object\n",
       "retweet_count     float64\n",
       "text               object\n",
       "dtype: object"
      ]
     },
     "execution_count": 2,
     "metadata": {},
     "output_type": "execute_result"
    }
   ],
   "source": [
    "df = pd.read_csv('airline_tweets.csv', encoding = 'utf8')\n",
    "df.dtypes"
   ]
  },
  {
   "cell_type": "code",
   "execution_count": 3,
   "metadata": {
    "collapsed": false
   },
   "outputs": [
    {
     "data": {
      "text/html": [
       "<div>\n",
       "<table border=\"1\" class=\"dataframe\">\n",
       "  <thead>\n",
       "    <tr style=\"text-align: right;\">\n",
       "      <th></th>\n",
       "      <th>tweet_id</th>\n",
       "      <th>tweet_created</th>\n",
       "      <th>name</th>\n",
       "      <th>tweet_location</th>\n",
       "      <th>retweet_count</th>\n",
       "      <th>text</th>\n",
       "    </tr>\n",
       "  </thead>\n",
       "  <tbody>\n",
       "    <tr>\n",
       "      <th>12099</th>\n",
       "      <td>12100</td>\n",
       "      <td>23-2-2015 13:37</td>\n",
       "      <td>AnnaIntheCity</td>\n",
       "      <td>Northern Virginia</td>\n",
       "      <td>0.0</td>\n",
       "      <td>@AmericanAir that's why I'm asking for excepti...</td>\n",
       "    </tr>\n",
       "    <tr>\n",
       "      <th>10434</th>\n",
       "      <td>10435</td>\n",
       "      <td>23-2-2015 4:15</td>\n",
       "      <td>Gamerguy212</td>\n",
       "      <td>New York City</td>\n",
       "      <td>0.0</td>\n",
       "      <td>@AmericanAir I Love American Airlines :D</td>\n",
       "    </tr>\n",
       "    <tr>\n",
       "      <th>7970</th>\n",
       "      <td>7971</td>\n",
       "      <td>22-2-2015 11:14</td>\n",
       "      <td>RichardAWeber</td>\n",
       "      <td>NaN</td>\n",
       "      <td>0.0</td>\n",
       "      <td>@SouthwestAir think you have great people work...</td>\n",
       "    </tr>\n",
       "    <tr>\n",
       "      <th>6298</th>\n",
       "      <td>6299</td>\n",
       "      <td>21-2-2015 13:10</td>\n",
       "      <td>Lozano_dc</td>\n",
       "      <td>NaN</td>\n",
       "      <td>0.0</td>\n",
       "      <td>@SouthwestAir don't you think a 4hr wait time ...</td>\n",
       "    </tr>\n",
       "    <tr>\n",
       "      <th>5953</th>\n",
       "      <td>5954</td>\n",
       "      <td>NaN</td>\n",
       "      <td>D4Duskes</td>\n",
       "      <td>NaN</td>\n",
       "      <td>0.0</td>\n",
       "      <td>@united on final. Pls don't let my connection ...</td>\n",
       "    </tr>\n",
       "  </tbody>\n",
       "</table>\n",
       "</div>"
      ],
      "text/plain": [
       "       tweet_id    tweet_created           name     tweet_location  \\\n",
       "12099     12100  23-2-2015 13:37  AnnaIntheCity  Northern Virginia   \n",
       "10434     10435   23-2-2015 4:15    Gamerguy212     New York City    \n",
       "7970       7971  22-2-2015 11:14  RichardAWeber                NaN   \n",
       "6298       6299  21-2-2015 13:10      Lozano_dc                NaN   \n",
       "5953       5954              NaN       D4Duskes                NaN   \n",
       "\n",
       "       retweet_count                                               text  \n",
       "12099            0.0  @AmericanAir that's why I'm asking for excepti...  \n",
       "10434            0.0           @AmericanAir I Love American Airlines :D  \n",
       "7970             0.0  @SouthwestAir think you have great people work...  \n",
       "6298             0.0  @SouthwestAir don't you think a 4hr wait time ...  \n",
       "5953             0.0  @united on final. Pls don't let my connection ...  "
      ]
     },
     "execution_count": 3,
     "metadata": {},
     "output_type": "execute_result"
    }
   ],
   "source": [
    "df.sample(5)"
   ]
  },
  {
   "cell_type": "code",
   "execution_count": 4,
   "metadata": {
    "collapsed": false
   },
   "outputs": [
    {
     "data": {
      "text/plain": [
       "2"
      ]
     },
     "execution_count": 4,
     "metadata": {},
     "output_type": "execute_result"
    }
   ],
   "source": [
    "df.sample(5)['tweet_location'].isnull().sum()"
   ]
  },
  {
   "cell_type": "code",
   "execution_count": 5,
   "metadata": {
    "collapsed": false
   },
   "outputs": [
    {
     "data": {
      "text/plain": [
       "count    14608.000000\n",
       "mean         0.082694\n",
       "std          0.746508\n",
       "min          0.000000\n",
       "25%          0.000000\n",
       "50%          0.000000\n",
       "75%          0.000000\n",
       "max         44.000000\n",
       "Name: retweet_count, dtype: float64"
      ]
     },
     "execution_count": 5,
     "metadata": {},
     "output_type": "execute_result"
    }
   ],
   "source": [
    "df['retweet_count'].describe().transpose()"
   ]
  },
  {
   "cell_type": "markdown",
   "metadata": {},
   "source": [
    "## Starting to clean up the data\n",
    "\n",
    "Converting all text to lower case and removing the characters the english disctionary does not have. This takes away  the some of the data. We need to remove extra characters like # from the hashtags unless we would like to do an explicit hashtag analyzis.\n",
    "\n",
    "In case you would like to use non ascii characters in the text  http://stackoverflow.com/a/35723460/127508\n",
    "\n",
    "- converting text to lowercase\n",
    "- unicode -> str\n",
    "- removing # (and potentiall other special characters)\n",
    "\n"
   ]
  },
  {
   "cell_type": "code",
   "execution_count": 6,
   "metadata": {
    "collapsed": false
   },
   "outputs": [
    {
     "data": {
      "text/plain": [
       "tweet_id          14616\n",
       "tweet_created     14470\n",
       "name              14616\n",
       "tweet_location     9803\n",
       "retweet_count     14608\n",
       "text              14608\n",
       "dtype: int64"
      ]
     },
     "execution_count": 6,
     "metadata": {},
     "output_type": "execute_result"
    }
   ],
   "source": [
    "df.count()"
   ]
  },
  {
   "cell_type": "code",
   "execution_count": 7,
   "metadata": {
    "collapsed": false
   },
   "outputs": [
    {
     "data": {
      "text/html": [
       "<div>\n",
       "<table border=\"1\" class=\"dataframe\">\n",
       "  <thead>\n",
       "    <tr style=\"text-align: right;\">\n",
       "      <th></th>\n",
       "      <th>tweet_id</th>\n",
       "      <th>tweet_created</th>\n",
       "      <th>name</th>\n",
       "      <th>tweet_location</th>\n",
       "      <th>retweet_count</th>\n",
       "      <th>text</th>\n",
       "      <th>lower</th>\n",
       "      <th>ascii</th>\n",
       "    </tr>\n",
       "  </thead>\n",
       "  <tbody>\n",
       "    <tr>\n",
       "      <th>0</th>\n",
       "      <td>1</td>\n",
       "      <td>16-2-2015 23:36</td>\n",
       "      <td>JetBlueNews</td>\n",
       "      <td>USA</td>\n",
       "      <td>0.0</td>\n",
       "      <td>@JetBlue's new CEO seeks the right balance to ...</td>\n",
       "      <td>@jetblue's new ceo seeks the right balance to ...</td>\n",
       "      <td>@jetblue's new ceo seeks the right balance to ...</td>\n",
       "    </tr>\n",
       "    <tr>\n",
       "      <th>1</th>\n",
       "      <td>2</td>\n",
       "      <td>16-2-2015 23:43</td>\n",
       "      <td>nesi_1992</td>\n",
       "      <td>undecided</td>\n",
       "      <td>0.0</td>\n",
       "      <td>@JetBlue is REALLY getting on my nerves !! 😡�...</td>\n",
       "      <td>@jetblue is really getting on my nerves !! 😡�...</td>\n",
       "      <td>@jetblue is really getting on my nerves !!  #n...</td>\n",
       "    </tr>\n",
       "    <tr>\n",
       "      <th>2</th>\n",
       "      <td>3</td>\n",
       "      <td>16-2-2015 23:48</td>\n",
       "      <td>CPoutloud</td>\n",
       "      <td>Washington. DC</td>\n",
       "      <td>0.0</td>\n",
       "      <td>@united yes. We waited in line for almost an h...</td>\n",
       "      <td>@united yes. we waited in line for almost an h...</td>\n",
       "      <td>@united yes. we waited in line for almost an h...</td>\n",
       "    </tr>\n",
       "    <tr>\n",
       "      <th>3</th>\n",
       "      <td>4</td>\n",
       "      <td>16-2-2015 23:52</td>\n",
       "      <td>brenduch</td>\n",
       "      <td>NaN</td>\n",
       "      <td>0.0</td>\n",
       "      <td>@united the we got into the gate at IAH on tim...</td>\n",
       "      <td>@united the we got into the gate at iah on tim...</td>\n",
       "      <td>@united the we got into the gate at iah on tim...</td>\n",
       "    </tr>\n",
       "    <tr>\n",
       "      <th>4</th>\n",
       "      <td>5</td>\n",
       "      <td>17-2-2015 0:00</td>\n",
       "      <td>VahidESQ</td>\n",
       "      <td>Los Angeles. CA</td>\n",
       "      <td>0.0</td>\n",
       "      <td>@SouthwestAir its cool that my bags take a bit...</td>\n",
       "      <td>@southwestair its cool that my bags take a bit...</td>\n",
       "      <td>@southwestair its cool that my bags take a bit...</td>\n",
       "    </tr>\n",
       "  </tbody>\n",
       "</table>\n",
       "</div>"
      ],
      "text/plain": [
       "   tweet_id    tweet_created         name   tweet_location  retweet_count  \\\n",
       "0         1  16-2-2015 23:36  JetBlueNews              USA            0.0   \n",
       "1         2  16-2-2015 23:43    nesi_1992        undecided            0.0   \n",
       "2         3  16-2-2015 23:48    CPoutloud   Washington. DC            0.0   \n",
       "3         4  16-2-2015 23:52     brenduch              NaN            0.0   \n",
       "4         5   17-2-2015 0:00     VahidESQ  Los Angeles. CA            0.0   \n",
       "\n",
       "                                                text  \\\n",
       "0  @JetBlue's new CEO seeks the right balance to ...   \n",
       "1  @JetBlue is REALLY getting on my nerves !! 😡�...   \n",
       "2  @united yes. We waited in line for almost an h...   \n",
       "3  @united the we got into the gate at IAH on tim...   \n",
       "4  @SouthwestAir its cool that my bags take a bit...   \n",
       "\n",
       "                                               lower  \\\n",
       "0  @jetblue's new ceo seeks the right balance to ...   \n",
       "1  @jetblue is really getting on my nerves !! 😡�...   \n",
       "2  @united yes. we waited in line for almost an h...   \n",
       "3  @united the we got into the gate at iah on tim...   \n",
       "4  @southwestair its cool that my bags take a bit...   \n",
       "\n",
       "                                               ascii  \n",
       "0  @jetblue's new ceo seeks the right balance to ...  \n",
       "1  @jetblue is really getting on my nerves !!  #n...  \n",
       "2  @united yes. we waited in line for almost an h...  \n",
       "3  @united the we got into the gate at iah on tim...  \n",
       "4  @southwestair its cool that my bags take a bit...  "
      ]
     },
     "execution_count": 7,
     "metadata": {},
     "output_type": "execute_result"
    }
   ],
   "source": [
    "#Lambdas for cleaning up \n",
    "df.count()\n",
    "asci = lambda s: s.encode('ascii',errors='ignore') if isinstance(s, basestring) else s\n",
    "lowe = lambda s: s.lower() if isinstance(s, basestring) else s\n",
    "typ = lambda t: type(t)\n",
    "df['lower'] = df['text'].apply(lowe)\n",
    "df['ascii'] = df['lower'].apply(asci)\n",
    "df.head()"
   ]
  },
  {
   "cell_type": "code",
   "execution_count": 8,
   "metadata": {
    "collapsed": false
   },
   "outputs": [
    {
     "data": {
      "text/plain": [
       "tweet_id          8\n",
       "tweet_created     0\n",
       "name              8\n",
       "tweet_location    0\n",
       "retweet_count     0\n",
       "text              0\n",
       "lower             0\n",
       "ascii             0\n",
       "dtype: int64"
      ]
     },
     "execution_count": 8,
     "metadata": {},
     "output_type": "execute_result"
    }
   ],
   "source": [
    "df[df['text'].isnull()].count()"
   ]
  },
  {
   "cell_type": "code",
   "execution_count": 9,
   "metadata": {
    "collapsed": false
   },
   "outputs": [
    {
     "data": {
      "text/html": [
       "<div>\n",
       "<table border=\"1\" class=\"dataframe\">\n",
       "  <thead>\n",
       "    <tr style=\"text-align: right;\">\n",
       "      <th></th>\n",
       "      <th>tweet_id</th>\n",
       "      <th>tweet_created</th>\n",
       "      <th>name</th>\n",
       "      <th>tweet_location</th>\n",
       "      <th>retweet_count</th>\n",
       "      <th>text</th>\n",
       "      <th>lower</th>\n",
       "      <th>ascii</th>\n",
       "    </tr>\n",
       "  </thead>\n",
       "  <tbody>\n",
       "    <tr>\n",
       "      <th>678</th>\n",
       "      <td>679</td>\n",
       "      <td>NaN</td>\n",
       "      <td>scatignani</td>\n",
       "      <td>NaN</td>\n",
       "      <td>NaN</td>\n",
       "      <td>NaN</td>\n",
       "      <td>NaN</td>\n",
       "      <td>NaN</td>\n",
       "    </tr>\n",
       "    <tr>\n",
       "      <th>2282</th>\n",
       "      <td>2283</td>\n",
       "      <td>NaN</td>\n",
       "      <td>edgarsantana</td>\n",
       "      <td>NaN</td>\n",
       "      <td>NaN</td>\n",
       "      <td>NaN</td>\n",
       "      <td>NaN</td>\n",
       "      <td>NaN</td>\n",
       "    </tr>\n",
       "    <tr>\n",
       "      <th>4027</th>\n",
       "      <td>4028</td>\n",
       "      <td>NaN</td>\n",
       "      <td>Mosborne13</td>\n",
       "      <td>NaN</td>\n",
       "      <td>NaN</td>\n",
       "      <td>NaN</td>\n",
       "      <td>NaN</td>\n",
       "      <td>NaN</td>\n",
       "    </tr>\n",
       "    <tr>\n",
       "      <th>4199</th>\n",
       "      <td>4200</td>\n",
       "      <td>NaN</td>\n",
       "      <td>ConnieBowman4</td>\n",
       "      <td>NaN</td>\n",
       "      <td>NaN</td>\n",
       "      <td>NaN</td>\n",
       "      <td>NaN</td>\n",
       "      <td>NaN</td>\n",
       "    </tr>\n",
       "    <tr>\n",
       "      <th>5628</th>\n",
       "      <td>5629</td>\n",
       "      <td>NaN</td>\n",
       "      <td>ohmal</td>\n",
       "      <td>NaN</td>\n",
       "      <td>NaN</td>\n",
       "      <td>NaN</td>\n",
       "      <td>NaN</td>\n",
       "      <td>NaN</td>\n",
       "    </tr>\n",
       "    <tr>\n",
       "      <th>7290</th>\n",
       "      <td>7291</td>\n",
       "      <td>NaN</td>\n",
       "      <td>traceyabbywhite</td>\n",
       "      <td>NaN</td>\n",
       "      <td>NaN</td>\n",
       "      <td>NaN</td>\n",
       "      <td>NaN</td>\n",
       "      <td>NaN</td>\n",
       "    </tr>\n",
       "    <tr>\n",
       "      <th>10568</th>\n",
       "      <td>10569</td>\n",
       "      <td>NaN</td>\n",
       "      <td>MrEschatologist</td>\n",
       "      <td>NaN</td>\n",
       "      <td>NaN</td>\n",
       "      <td>NaN</td>\n",
       "      <td>NaN</td>\n",
       "      <td>NaN</td>\n",
       "    </tr>\n",
       "    <tr>\n",
       "      <th>13290</th>\n",
       "      <td>13291</td>\n",
       "      <td>NaN</td>\n",
       "      <td>Pride_MMA</td>\n",
       "      <td>NaN</td>\n",
       "      <td>NaN</td>\n",
       "      <td>NaN</td>\n",
       "      <td>NaN</td>\n",
       "      <td>NaN</td>\n",
       "    </tr>\n",
       "  </tbody>\n",
       "</table>\n",
       "</div>"
      ],
      "text/plain": [
       "       tweet_id tweet_created             name tweet_location  retweet_count  \\\n",
       "678         679           NaN       scatignani            NaN            NaN   \n",
       "2282       2283           NaN     edgarsantana            NaN            NaN   \n",
       "4027       4028           NaN       Mosborne13            NaN            NaN   \n",
       "4199       4200           NaN    ConnieBowman4            NaN            NaN   \n",
       "5628       5629           NaN            ohmal            NaN            NaN   \n",
       "7290       7291           NaN  traceyabbywhite            NaN            NaN   \n",
       "10568     10569           NaN  MrEschatologist            NaN            NaN   \n",
       "13290     13291           NaN        Pride_MMA            NaN            NaN   \n",
       "\n",
       "      text lower ascii  \n",
       "678    NaN   NaN   NaN  \n",
       "2282   NaN   NaN   NaN  \n",
       "4027   NaN   NaN   NaN  \n",
       "4199   NaN   NaN   NaN  \n",
       "5628   NaN   NaN   NaN  \n",
       "7290   NaN   NaN   NaN  \n",
       "10568  NaN   NaN   NaN  \n",
       "13290  NaN   NaN   NaN  "
      ]
     },
     "execution_count": 9,
     "metadata": {},
     "output_type": "execute_result"
    }
   ],
   "source": [
    "df[df['text'].isnull()]"
   ]
  },
  {
   "cell_type": "code",
   "execution_count": 10,
   "metadata": {
    "collapsed": false
   },
   "outputs": [
    {
     "data": {
      "text/plain": [
       "tweet_id          14616\n",
       "tweet_created     14470\n",
       "name              14616\n",
       "tweet_location     9803\n",
       "retweet_count     14608\n",
       "text              14608\n",
       "lower             14608\n",
       "ascii             14608\n",
       "dtype: int64"
      ]
     },
     "execution_count": 10,
     "metadata": {},
     "output_type": "execute_result"
    }
   ],
   "source": [
    "df.count()"
   ]
  },
  {
   "cell_type": "code",
   "execution_count": 11,
   "metadata": {
    "collapsed": false,
    "scrolled": false
   },
   "outputs": [
    {
     "data": {
      "text/plain": [
       "14608"
      ]
     },
     "execution_count": 11,
     "metadata": {},
     "output_type": "execute_result"
    }
   ],
   "source": [
    "df = df[(df.text.notnull())]\n",
    "df['text'].isnull().count()"
   ]
  },
  {
   "cell_type": "code",
   "execution_count": 12,
   "metadata": {
    "collapsed": false
   },
   "outputs": [
    {
     "data": {
      "text/html": [
       "<div>\n",
       "<table border=\"1\" class=\"dataframe\">\n",
       "  <thead>\n",
       "    <tr style=\"text-align: right;\">\n",
       "      <th></th>\n",
       "      <th>tweet_id</th>\n",
       "      <th>tweet_created</th>\n",
       "      <th>name</th>\n",
       "      <th>tweet_location</th>\n",
       "      <th>retweet_count</th>\n",
       "      <th>text</th>\n",
       "      <th>lower</th>\n",
       "      <th>ascii</th>\n",
       "    </tr>\n",
       "  </thead>\n",
       "  <tbody>\n",
       "    <tr>\n",
       "      <th>8094</th>\n",
       "      <td>8095</td>\n",
       "      <td>22-2-2015 12:15</td>\n",
       "      <td>iambmac</td>\n",
       "      <td>Columbus. OH. USA</td>\n",
       "      <td>0.0</td>\n",
       "      <td>@AmericanAir DMing you now! Big thanks.</td>\n",
       "      <td>@americanair dming you now! big thanks.</td>\n",
       "      <td>@americanair dming you now! big thanks.</td>\n",
       "    </tr>\n",
       "  </tbody>\n",
       "</table>\n",
       "</div>"
      ],
      "text/plain": [
       "      tweet_id    tweet_created     name     tweet_location  retweet_count  \\\n",
       "8094      8095  22-2-2015 12:15  iambmac  Columbus. OH. USA            0.0   \n",
       "\n",
       "                                         text  \\\n",
       "8094  @AmericanAir DMing you now! Big thanks.   \n",
       "\n",
       "                                        lower  \\\n",
       "8094  @americanair dming you now! big thanks.   \n",
       "\n",
       "                                        ascii  \n",
       "8094  @americanair dming you now! big thanks.  "
      ]
     },
     "execution_count": 12,
     "metadata": {},
     "output_type": "execute_result"
    }
   ],
   "source": [
    "df.sample()"
   ]
  },
  {
   "cell_type": "code",
   "execution_count": 13,
   "metadata": {
    "collapsed": false
   },
   "outputs": [
    {
     "data": {
      "text/plain": [
       "tweet_id          14608\n",
       "tweet_created     14470\n",
       "name              14608\n",
       "tweet_location     9803\n",
       "retweet_count     14608\n",
       "ascii             14608\n",
       "dtype: int64"
      ]
     },
     "execution_count": 13,
     "metadata": {},
     "output_type": "execute_result"
    }
   ],
   "source": [
    "#Removing what we don't need\n",
    "for column in ['lower', 'text']:\n",
    "    if column in df.columns:\n",
    "        del df[column]\n",
    "df.count()"
   ]
  },
  {
   "cell_type": "code",
   "execution_count": 14,
   "metadata": {
    "collapsed": false
   },
   "outputs": [
    {
     "data": {
      "text/html": [
       "<div>\n",
       "<table border=\"1\" class=\"dataframe\">\n",
       "  <thead>\n",
       "    <tr style=\"text-align: right;\">\n",
       "      <th></th>\n",
       "      <th>tweet_id</th>\n",
       "      <th>tweet_created</th>\n",
       "      <th>name</th>\n",
       "      <th>tweet_location</th>\n",
       "      <th>retweet_count</th>\n",
       "      <th>ascii</th>\n",
       "    </tr>\n",
       "  </thead>\n",
       "  <tbody>\n",
       "    <tr>\n",
       "      <th>0</th>\n",
       "      <td>1</td>\n",
       "      <td>16-2-2015 23:36</td>\n",
       "      <td>JetBlueNews</td>\n",
       "      <td>USA</td>\n",
       "      <td>0.0</td>\n",
       "      <td>@jetblue's new ceo seeks the right balance to ...</td>\n",
       "    </tr>\n",
       "    <tr>\n",
       "      <th>1</th>\n",
       "      <td>2</td>\n",
       "      <td>16-2-2015 23:43</td>\n",
       "      <td>nesi_1992</td>\n",
       "      <td>undecided</td>\n",
       "      <td>0.0</td>\n",
       "      <td>@jetblue is really getting on my nerves !!  #n...</td>\n",
       "    </tr>\n",
       "    <tr>\n",
       "      <th>2</th>\n",
       "      <td>3</td>\n",
       "      <td>16-2-2015 23:48</td>\n",
       "      <td>CPoutloud</td>\n",
       "      <td>Washington. DC</td>\n",
       "      <td>0.0</td>\n",
       "      <td>@united yes. we waited in line for almost an h...</td>\n",
       "    </tr>\n",
       "    <tr>\n",
       "      <th>3</th>\n",
       "      <td>4</td>\n",
       "      <td>16-2-2015 23:52</td>\n",
       "      <td>brenduch</td>\n",
       "      <td>NaN</td>\n",
       "      <td>0.0</td>\n",
       "      <td>@united the we got into the gate at iah on tim...</td>\n",
       "    </tr>\n",
       "    <tr>\n",
       "      <th>4</th>\n",
       "      <td>5</td>\n",
       "      <td>17-2-2015 0:00</td>\n",
       "      <td>VahidESQ</td>\n",
       "      <td>Los Angeles. CA</td>\n",
       "      <td>0.0</td>\n",
       "      <td>@southwestair its cool that my bags take a bit...</td>\n",
       "    </tr>\n",
       "  </tbody>\n",
       "</table>\n",
       "</div>"
      ],
      "text/plain": [
       "   tweet_id    tweet_created         name   tweet_location  retweet_count  \\\n",
       "0         1  16-2-2015 23:36  JetBlueNews              USA            0.0   \n",
       "1         2  16-2-2015 23:43    nesi_1992        undecided            0.0   \n",
       "2         3  16-2-2015 23:48    CPoutloud   Washington. DC            0.0   \n",
       "3         4  16-2-2015 23:52     brenduch              NaN            0.0   \n",
       "4         5   17-2-2015 0:00     VahidESQ  Los Angeles. CA            0.0   \n",
       "\n",
       "                                               ascii  \n",
       "0  @jetblue's new ceo seeks the right balance to ...  \n",
       "1  @jetblue is really getting on my nerves !!  #n...  \n",
       "2  @united yes. we waited in line for almost an h...  \n",
       "3  @united the we got into the gate at iah on tim...  \n",
       "4  @southwestair its cool that my bags take a bit...  "
      ]
     },
     "execution_count": 14,
     "metadata": {},
     "output_type": "execute_result"
    }
   ],
   "source": [
    "df.head()"
   ]
  },
  {
   "cell_type": "markdown",
   "metadata": {},
   "source": [
    "## Getting airline information"
   ]
  },
  {
   "cell_type": "code",
   "execution_count": 15,
   "metadata": {
    "collapsed": false
   },
   "outputs": [
    {
     "data": {
      "text/html": [
       "<div>\n",
       "<table border=\"1\" class=\"dataframe\">\n",
       "  <thead>\n",
       "    <tr style=\"text-align: right;\">\n",
       "      <th></th>\n",
       "      <th>tweet_id</th>\n",
       "      <th>tweet_created</th>\n",
       "      <th>name</th>\n",
       "      <th>tweet_location</th>\n",
       "      <th>retweet_count</th>\n",
       "      <th>ascii</th>\n",
       "      <th>airline</th>\n",
       "    </tr>\n",
       "  </thead>\n",
       "  <tbody>\n",
       "    <tr>\n",
       "      <th>14331</th>\n",
       "      <td>14332</td>\n",
       "      <td>24-2-2015 10:27</td>\n",
       "      <td>jkordyback</td>\n",
       "      <td>North Saanich. BC</td>\n",
       "      <td>0.0</td>\n",
       "      <td>@americanair inconvenient is such a convenient...</td>\n",
       "      <td>americanair</td>\n",
       "    </tr>\n",
       "  </tbody>\n",
       "</table>\n",
       "</div>"
      ],
      "text/plain": [
       "       tweet_id    tweet_created        name     tweet_location  \\\n",
       "14331     14332  24-2-2015 10:27  jkordyback  North Saanich. BC   \n",
       "\n",
       "       retweet_count                                              ascii  \\\n",
       "14331            0.0  @americanair inconvenient is such a convenient...   \n",
       "\n",
       "           airline  \n",
       "14331  americanair  "
      ]
     },
     "execution_count": 15,
     "metadata": {},
     "output_type": "execute_result"
    }
   ],
   "source": [
    "df['airline'] = df['ascii'].str.extract('@(?P<Airline>\\w+)', expand=True)\n",
    "df.sample()"
   ]
  },
  {
   "cell_type": "code",
   "execution_count": 16,
   "metadata": {
    "collapsed": false
   },
   "outputs": [
    {
     "data": {
      "text/plain": [
       "united             3800\n",
       "usairways          2902\n",
       "americanair        2748\n",
       "southwestair       2414\n",
       "jetblue            2212\n",
       "virginamerica       503\n",
       "nrhodes85             2\n",
       "dadboner              1\n",
       "deltaassist           1\n",
       "catfoodbeerglue       1\n",
       "scm1133               1\n",
       "lindaswc              1\n",
       "djevolutionhd         1\n",
       "vanessaannz           1\n",
       "ods1819               1\n",
       "chasefoster           1\n",
       "sb5551                1\n",
       "eatgregeat            1\n",
       "imaginedragons        1\n",
       "sarahpompei           1\n",
       "nytimes               1\n",
       "kciairport            1\n",
       "shannonwoodward       1\n",
       "internjohnradio       1\n",
       "albertbreer           1\n",
       "mandarinjourney       1\n",
       "timbennettg3          1\n",
       "ninadavuluri          1\n",
       "hillaconlin           1\n",
       "andrewfallis          1\n",
       "malhoit               1\n",
       "melissaafrancis       1\n",
       "Name: airline, dtype: int64"
      ]
     },
     "execution_count": 16,
     "metadata": {},
     "output_type": "execute_result"
    }
   ],
   "source": [
    "df['airline'].value_counts()"
   ]
  },
  {
   "cell_type": "code",
   "execution_count": 17,
   "metadata": {
    "collapsed": false
   },
   "outputs": [
    {
     "data": {
      "text/plain": [
       "united           3800\n",
       "usairways        2902\n",
       "americanair      2748\n",
       "southwestair     2414\n",
       "jetblue          2212\n",
       "virginamerica     503\n",
       "Name: airline_clean, dtype: int64"
      ]
     },
     "execution_count": 17,
     "metadata": {},
     "output_type": "execute_result"
    }
   ],
   "source": [
    "df['airline_clean'] = df['airline'].str.extract(\n",
    "    '(usairways|americanair|jetblue|virginamerica|united|usairways|southwestair)', \n",
    "    expand=True)\n",
    "df['airline_clean'].value_counts()"
   ]
  },
  {
   "cell_type": "code",
   "execution_count": 18,
   "metadata": {
    "collapsed": false
   },
   "outputs": [
    {
     "data": {
      "text/plain": [
       "<matplotlib.axes._subplots.AxesSubplot at 0x10c4a1490>"
      ]
     },
     "execution_count": 18,
     "metadata": {},
     "output_type": "execute_result"
    },
    {
     "data": {
      "image/png": "[encoded data removed]",
      "text/plain": [
       "<matplotlib.figure.Figure at 0x10cd727d0>"
      ]
     },
     "metadata": {},
     "output_type": "display_data"
    }
   ],
   "source": [
    "df['airline_clean'].value_counts().plot(kind='bar', stacked=True,figsize=(18,6))"
   ]
  },
  {
   "cell_type": "code",
   "execution_count": 19,
   "metadata": {
    "collapsed": false
   },
   "outputs": [
    {
     "data": {
      "text/plain": [
       "array(['jetblue', 'united', 'southwestair', 'usairways', 'virginamerica',\n",
       "       nan, 'americanair'], dtype=object)"
      ]
     },
     "execution_count": 19,
     "metadata": {},
     "output_type": "execute_result"
    }
   ],
   "source": [
    "if 'airline' in df.columns:\n",
    "    del df['airline']  \n",
    "df['airline_clean'].unique()"
   ]
  },
  {
   "cell_type": "code",
   "execution_count": 20,
   "metadata": {
    "collapsed": false
   },
   "outputs": [
    {
     "data": {
      "text/plain": [
       "tweet_id          14608\n",
       "tweet_created     14470\n",
       "name              14608\n",
       "tweet_location     9803\n",
       "retweet_count     14608\n",
       "ascii             14608\n",
       "airline_clean     14579\n",
       "dtype: int64"
      ]
     },
     "execution_count": 20,
     "metadata": {},
     "output_type": "execute_result"
    }
   ],
   "source": [
    "df.head()\n",
    "df.count()"
   ]
  },
  {
   "cell_type": "code",
   "execution_count": 21,
   "metadata": {
    "collapsed": false
   },
   "outputs": [
    {
     "data": {
      "text/html": [
       "<div>\n",
       "<table border=\"1\" class=\"dataframe\">\n",
       "  <thead>\n",
       "    <tr style=\"text-align: right;\">\n",
       "      <th></th>\n",
       "      <th>tweet_id</th>\n",
       "      <th>tweet_created</th>\n",
       "      <th>name</th>\n",
       "      <th>tweet_location</th>\n",
       "      <th>retweet_count</th>\n",
       "      <th>ascii</th>\n",
       "      <th>airline_clean</th>\n",
       "    </tr>\n",
       "  </thead>\n",
       "  <tbody>\n",
       "    <tr>\n",
       "      <th>12850</th>\n",
       "      <td>12851</td>\n",
       "      <td>23-2-2015 19:12</td>\n",
       "      <td>jenmedbery</td>\n",
       "      <td>New Orleans. LA. USA</td>\n",
       "      <td>0.0</td>\n",
       "      <td>@southwestair twitter cust svc rule 1 dont say...</td>\n",
       "      <td>southwestair</td>\n",
       "    </tr>\n",
       "  </tbody>\n",
       "</table>\n",
       "</div>"
      ],
      "text/plain": [
       "       tweet_id    tweet_created        name        tweet_location  \\\n",
       "12850     12851  23-2-2015 19:12  jenmedbery  New Orleans. LA. USA   \n",
       "\n",
       "       retweet_count                                              ascii  \\\n",
       "12850            0.0  @southwestair twitter cust svc rule 1 dont say...   \n",
       "\n",
       "      airline_clean  \n",
       "12850  southwestair  "
      ]
     },
     "execution_count": 21,
     "metadata": {},
     "output_type": "execute_result"
    }
   ],
   "source": [
    "df.sample()"
   ]
  },
  {
   "cell_type": "markdown",
   "metadata": {},
   "source": [
    "Removing @words move hashtags into a new column."
   ]
  },
  {
   "cell_type": "code",
   "execution_count": 22,
   "metadata": {
    "collapsed": false
   },
   "outputs": [
    {
     "data": {
      "text/plain": [
       "tweet_id                                                       1012\n",
       "tweet_created                                       17-2-2015 16:46\n",
       "name                                                AshleyMarie_TIU\n",
       "tweet_location                                        HOOSiER STATE\n",
       "retweet_count                                                     0\n",
       "ascii             @southwestair what's up with these delays?! th...\n",
       "airline_clean                                          southwestair\n",
       "tags                                 [southwest, southwestairlines]\n",
       "Name: 1011, dtype: object"
      ]
     },
     "execution_count": 22,
     "metadata": {},
     "output_type": "execute_result"
    }
   ],
   "source": [
    "tags = lambda s: [tag.strip(\"#\") for tag in s.split() if tag.startswith(\"#\")]\n",
    "df['tags'] = df['ascii'].apply(tags)\n",
    "df.iloc[1010]"
   ]
  },
  {
   "cell_type": "code",
   "execution_count": 23,
   "metadata": {
    "collapsed": false
   },
   "outputs": [
    {
     "data": {
      "text/html": [
       "<div>\n",
       "<table border=\"1\" class=\"dataframe\">\n",
       "  <thead>\n",
       "    <tr style=\"text-align: right;\">\n",
       "      <th></th>\n",
       "      <th>tweet_id</th>\n",
       "      <th>tweet_created</th>\n",
       "      <th>name</th>\n",
       "      <th>tweet_location</th>\n",
       "      <th>retweet_count</th>\n",
       "      <th>ascii</th>\n",
       "      <th>airline_clean</th>\n",
       "      <th>tags</th>\n",
       "    </tr>\n",
       "  </thead>\n",
       "  <tbody>\n",
       "    <tr>\n",
       "      <th>10882</th>\n",
       "      <td>10883</td>\n",
       "      <td>23-2-2015 7:38</td>\n",
       "      <td>JatinPonia</td>\n",
       "      <td>NaN</td>\n",
       "      <td>0.0</td>\n",
       "      <td>@americanair please follow me.</td>\n",
       "      <td>americanair</td>\n",
       "      <td>[]</td>\n",
       "    </tr>\n",
       "  </tbody>\n",
       "</table>\n",
       "</div>"
      ],
      "text/plain": [
       "       tweet_id   tweet_created        name tweet_location  retweet_count  \\\n",
       "10882     10883  23-2-2015 7:38  JatinPonia            NaN            0.0   \n",
       "\n",
       "                                ascii airline_clean tags  \n",
       "10882  @americanair please follow me.   americanair   []  "
      ]
     },
     "execution_count": 23,
     "metadata": {},
     "output_type": "execute_result"
    }
   ],
   "source": [
    "df.sample()"
   ]
  },
  {
   "cell_type": "code",
   "execution_count": 24,
   "metadata": {
    "collapsed": false
   },
   "outputs": [
    {
     "data": {
      "text/plain": [
       "tweet_id                                                        522\n",
       "tweet_created                                       17-2-2015 12:03\n",
       "name                                                somekidnamedjon\n",
       "tweet_location                                                 ✈️✈️\n",
       "retweet_count                                                     0\n",
       "ascii             @jetblue i would love for you to fly my best f...\n",
       "airline_clean                                               jetblue\n",
       "tags                                                             []\n",
       "urls                                       [http://t.co/ch0nmjymgh]\n",
       "Name: 521, dtype: object"
      ]
     },
     "execution_count": 24,
     "metadata": {},
     "output_type": "execute_result"
    }
   ],
   "source": [
    "urls = lambda s: [url for url in s.split() if url.startswith(\"http://\")]\n",
    "df['urls'] = df['ascii'].apply(urls)\n",
    "df.iloc[521]"
   ]
  },
  {
   "cell_type": "code",
   "execution_count": 25,
   "metadata": {
    "collapsed": false
   },
   "outputs": [
    {
     "data": {
      "text/html": [
       "<div>\n",
       "<table border=\"1\" class=\"dataframe\">\n",
       "  <thead>\n",
       "    <tr style=\"text-align: right;\">\n",
       "      <th></th>\n",
       "      <th>tweet_id</th>\n",
       "      <th>tweet_created</th>\n",
       "      <th>name</th>\n",
       "      <th>tweet_location</th>\n",
       "      <th>retweet_count</th>\n",
       "      <th>ascii</th>\n",
       "      <th>airline_clean</th>\n",
       "      <th>tags</th>\n",
       "      <th>urls</th>\n",
       "    </tr>\n",
       "  </thead>\n",
       "  <tbody>\n",
       "    <tr>\n",
       "      <th>8534</th>\n",
       "      <td>8535</td>\n",
       "      <td>22-2-2015 14:11</td>\n",
       "      <td>kirsten_lana</td>\n",
       "      <td>Boston. MA</td>\n",
       "      <td>0.0</td>\n",
       "      <td>just sent it</td>\n",
       "      <td>southwestair</td>\n",
       "      <td>[]</td>\n",
       "      <td>[]</td>\n",
       "    </tr>\n",
       "  </tbody>\n",
       "</table>\n",
       "</div>"
      ],
      "text/plain": [
       "      tweet_id    tweet_created          name tweet_location  retweet_count  \\\n",
       "8534      8535  22-2-2015 14:11  kirsten_lana     Boston. MA            0.0   \n",
       "\n",
       "              ascii airline_clean tags urls  \n",
       "8534   just sent it  southwestair   []   []  "
      ]
     },
     "execution_count": 25,
     "metadata": {},
     "output_type": "execute_result"
    }
   ],
   "source": [
    "df['ascii'] = df['ascii'].str.replace('(\\.)?@(?P<Airline>\\w+)', '')\n",
    "df['ascii'] = df['ascii'].str.replace('#(?P<Tag>\\w+)', '')\n",
    "df['ascii'] = df['ascii'].str.replace('http://t.co/(?P<Url>\\w+)', '')\n",
    "df.sample()"
   ]
  },
  {
   "cell_type": "code",
   "execution_count": 26,
   "metadata": {
    "collapsed": false
   },
   "outputs": [
    {
     "data": {
      "text/plain": [
       "tweet_id                                                        522\n",
       "tweet_created                                       17-2-2015 12:03\n",
       "name                                                somekidnamedjon\n",
       "tweet_location                                                 ✈️✈️\n",
       "retweet_count                                                     0\n",
       "ascii              i would love for you to fly my best friend ho...\n",
       "airline_clean                                               jetblue\n",
       "tags                                                             []\n",
       "urls                                       [http://t.co/ch0nmjymgh]\n",
       "Name: 521, dtype: object"
      ]
     },
     "execution_count": 26,
     "metadata": {},
     "output_type": "execute_result"
    }
   ],
   "source": [
    "df.iloc[521]"
   ]
  },
  {
   "cell_type": "code",
   "execution_count": 27,
   "metadata": {
    "collapsed": false
   },
   "outputs": [
    {
     "data": {
      "text/html": [
       "<div>\n",
       "<table border=\"1\" class=\"dataframe\">\n",
       "  <thead>\n",
       "    <tr style=\"text-align: right;\">\n",
       "      <th></th>\n",
       "      <th>tweet_id</th>\n",
       "      <th>tweet_created</th>\n",
       "      <th>name</th>\n",
       "      <th>tweet_location</th>\n",
       "      <th>retweet_count</th>\n",
       "      <th>ascii</th>\n",
       "      <th>airline_clean</th>\n",
       "      <th>tags</th>\n",
       "      <th>urls</th>\n",
       "    </tr>\n",
       "  </thead>\n",
       "  <tbody>\n",
       "    <tr>\n",
       "      <th>7061</th>\n",
       "      <td>7062</td>\n",
       "      <td>21-2-2015 21:26</td>\n",
       "      <td>WM_j_MW</td>\n",
       "      <td>Wake Forest. NC</td>\n",
       "      <td>0.0</td>\n",
       "      <td>suck</td>\n",
       "      <td>united</td>\n",
       "      <td>[]</td>\n",
       "      <td>[]</td>\n",
       "    </tr>\n",
       "  </tbody>\n",
       "</table>\n",
       "</div>"
      ],
      "text/plain": [
       "      tweet_id    tweet_created     name   tweet_location  retweet_count  \\\n",
       "7061      7062  21-2-2015 21:26  WM_j_MW  Wake Forest. NC            0.0   \n",
       "\n",
       "      ascii airline_clean tags urls  \n",
       "7061   suck        united   []   []  "
      ]
     },
     "execution_count": 27,
     "metadata": {},
     "output_type": "execute_result"
    }
   ],
   "source": [
    "df.sample()"
   ]
  },
  {
   "cell_type": "code",
   "execution_count": 28,
   "metadata": {
    "collapsed": false
   },
   "outputs": [],
   "source": [
    "from nltk.corpus import stopwords\n",
    "import string\n",
    "stop = stopwords.words('english')\n",
    "df['ascii'].apply(lambda s: [item for item in s if item not in stop])\n",
    "df['ascii'].apply(lambda s: s.translate(None, string.punctuation))\n",
    "df['tokenized_text'] = df.apply(lambda row: nltk.word_tokenize(row['ascii'].encode('ascii','ignore')), axis=1)"
   ]
  },
  {
   "cell_type": "code",
   "execution_count": 29,
   "metadata": {
    "collapsed": false
   },
   "outputs": [
    {
     "data": {
      "text/plain": [
       "tweet_id                       4429\n",
       "tweet_created        20-2-2015 7:56\n",
       "name                  KBeckwithDane\n",
       "tweet_location                  NaN\n",
       "retweet_count                     0\n",
       "ascii                 290 to boston\n",
       "airline_clean               jetblue\n",
       "tags                             []\n",
       "urls                             []\n",
       "tokenized_text    [290, to, boston]\n",
       "Name: 4428, dtype: object"
      ]
     },
     "execution_count": 29,
     "metadata": {},
     "output_type": "execute_result"
    }
   ],
   "source": [
    "df.iloc[4424]"
   ]
  },
  {
   "cell_type": "code",
   "execution_count": 32,
   "metadata": {
    "collapsed": false
   },
   "outputs": [
    {
     "data": {
      "text/plain": [
       "tweet_id                                                        522\n",
       "tweet_created                                       17-2-2015 12:03\n",
       "name                                                somekidnamedjon\n",
       "tweet_location                                                 ✈️✈️\n",
       "retweet_count                                                     0\n",
       "ascii              i would love for you to fly my best friend ho...\n",
       "airline_clean                                               jetblue\n",
       "tags                                                             []\n",
       "urls                                       [http://t.co/ch0nmjymgh]\n",
       "tokenized_text    [i, would, love, for, you, to, fly, my, best, ...\n",
       "Name: 521, dtype: object"
      ]
     },
     "execution_count": 32,
     "metadata": {},
     "output_type": "execute_result"
    }
   ],
   "source": [
    "df.iloc[521]"
   ]
  },
  {
   "cell_type": "code",
   "execution_count": 41,
   "metadata": {
    "collapsed": false
   },
   "outputs": [
    {
     "data": {
      "text/html": [
       "<div>\n",
       "<table border=\"1\" class=\"dataframe\">\n",
       "  <thead>\n",
       "    <tr style=\"text-align: right;\">\n",
       "      <th></th>\n",
       "      <th>tweet_id</th>\n",
       "      <th>tweet_created</th>\n",
       "      <th>name</th>\n",
       "      <th>tweet_location</th>\n",
       "      <th>retweet_count</th>\n",
       "      <th>ascii</th>\n",
       "      <th>airline_clean</th>\n",
       "      <th>tags</th>\n",
       "      <th>urls</th>\n",
       "      <th>tokenized_text</th>\n",
       "    </tr>\n",
       "  </thead>\n",
       "  <tbody>\n",
       "    <tr>\n",
       "      <th>1727</th>\n",
       "      <td>1728</td>\n",
       "      <td>18-2-2015 8:19</td>\n",
       "      <td>DeltaSegmentFly</td>\n",
       "      <td>TRI CITIES (TRI)</td>\n",
       "      <td>0.0</td>\n",
       "      <td>goes to court to gain access to  gates at lo...</td>\n",
       "      <td>southwestair</td>\n",
       "      <td>[deltanews]</td>\n",
       "      <td>[http://t.co/ilqzmmjiyq]</td>\n",
       "      <td>[goes, to, court, to, gain, access, to, gates,...</td>\n",
       "    </tr>\n",
       "  </tbody>\n",
       "</table>\n",
       "</div>"
      ],
      "text/plain": [
       "      tweet_id   tweet_created             name    tweet_location  \\\n",
       "1727      1728  18-2-2015 8:19  DeltaSegmentFly  TRI CITIES (TRI)   \n",
       "\n",
       "      retweet_count                                              ascii  \\\n",
       "1727            0.0    goes to court to gain access to  gates at lo...   \n",
       "\n",
       "     airline_clean         tags                      urls  \\\n",
       "1727  southwestair  [deltanews]  [http://t.co/ilqzmmjiyq]   \n",
       "\n",
       "                                         tokenized_text  \n",
       "1727  [goes, to, court, to, gain, access, to, gates,...  "
      ]
     },
     "execution_count": 41,
     "metadata": {},
     "output_type": "execute_result"
    }
   ],
   "source": [
    "df.sample()"
   ]
  },
  {
   "cell_type": "markdown",
   "metadata": {},
   "source": [
    "## Tweets with most hashtags"
   ]
  },
  {
   "cell_type": "code",
   "execution_count": 68,
   "metadata": {
    "collapsed": false
   },
   "outputs": [],
   "source": [
    "df['ctags'] = df['tags'].apply(len)"
   ]
  },
  {
   "cell_type": "code",
   "execution_count": 79,
   "metadata": {
    "collapsed": false
   },
   "outputs": [
    {
     "data": {
      "text/html": [
       "<div>\n",
       "<table border=\"1\" class=\"dataframe\">\n",
       "  <thead>\n",
       "    <tr style=\"text-align: right;\">\n",
       "      <th></th>\n",
       "      <th>tweet_id</th>\n",
       "      <th>tweet_created</th>\n",
       "      <th>name</th>\n",
       "      <th>tweet_location</th>\n",
       "      <th>retweet_count</th>\n",
       "      <th>ascii</th>\n",
       "      <th>airline_clean</th>\n",
       "      <th>tags</th>\n",
       "      <th>urls</th>\n",
       "      <th>tokenized_text</th>\n",
       "      <th>ctags</th>\n",
       "    </tr>\n",
       "  </thead>\n",
       "  <tbody>\n",
       "    <tr>\n",
       "      <th>9393</th>\n",
       "      <td>9394</td>\n",
       "      <td>22-2-2015 17:42</td>\n",
       "      <td>ubanks</td>\n",
       "      <td>Philly Yo</td>\n",
       "      <td>0.0</td>\n",
       "      <td>any idea when flight 703 to miami will leave ...</td>\n",
       "      <td>usairways</td>\n",
       "      <td>[]</td>\n",
       "      <td>[]</td>\n",
       "      <td>[any, idea, when, flight, 703, to, miami, will...</td>\n",
       "      <td>0</td>\n",
       "    </tr>\n",
       "  </tbody>\n",
       "</table>\n",
       "</div>"
      ],
      "text/plain": [
       "      tweet_id    tweet_created    name tweet_location  retweet_count  \\\n",
       "9393      9394  22-2-2015 17:42  ubanks      Philly Yo            0.0   \n",
       "\n",
       "                                                  ascii airline_clean tags  \\\n",
       "9393   any idea when flight 703 to miami will leave ...     usairways   []   \n",
       "\n",
       "     urls                                     tokenized_text  ctags  \n",
       "9393   []  [any, idea, when, flight, 703, to, miami, will...      0  "
      ]
     },
     "execution_count": 79,
     "metadata": {},
     "output_type": "execute_result"
    }
   ],
   "source": [
    "df.sample()"
   ]
  },
  {
   "cell_type": "markdown",
   "metadata": {},
   "source": [
    "Sorting by count"
   ]
  },
  {
   "cell_type": "code",
   "execution_count": 92,
   "metadata": {
    "collapsed": false
   },
   "outputs": [
    {
     "data": {
      "text/html": [
       "<div>\n",
       "<table border=\"1\" class=\"dataframe\">\n",
       "  <thead>\n",
       "    <tr style=\"text-align: right;\">\n",
       "      <th></th>\n",
       "      <th>tweet_id</th>\n",
       "      <th>tweet_created</th>\n",
       "      <th>name</th>\n",
       "      <th>tweet_location</th>\n",
       "      <th>retweet_count</th>\n",
       "      <th>ascii</th>\n",
       "      <th>airline_clean</th>\n",
       "      <th>tags</th>\n",
       "      <th>urls</th>\n",
       "      <th>tokenized_text</th>\n",
       "      <th>ctags</th>\n",
       "    </tr>\n",
       "  </thead>\n",
       "  <tbody>\n",
       "    <tr>\n",
       "      <th>4839</th>\n",
       "      <td>4840</td>\n",
       "      <td>20-2-2015 11:57</td>\n",
       "      <td>southxnortheast</td>\n",
       "      <td>key west to bar harbor</td>\n",
       "      <td>2.0</td>\n",
       "      <td>saving my sanity. leaving it behind for sunsh...</td>\n",
       "      <td>jetblue</td>\n",
       "      <td>[escape, fl, bliss, travel, indenial, whatfroz...</td>\n",
       "      <td>[http://t.co/6ttzejv3hy]</td>\n",
       "      <td>[saving, my, sanity, ., leaving, it, behind, f...</td>\n",
       "      <td>6</td>\n",
       "    </tr>\n",
       "    <tr>\n",
       "      <th>8163</th>\n",
       "      <td>8164</td>\n",
       "      <td>22-2-2015 12:35</td>\n",
       "      <td>livingfitly</td>\n",
       "      <td>Washington. DC</td>\n",
       "      <td>0.0</td>\n",
       "      <td>home to    in'  back to !</td>\n",
       "      <td>virginamerica</td>\n",
       "      <td>[flight, dc, sunset, globe, backtowinter, work...</td>\n",
       "      <td>[http://t.co/vx9vbctdlf]</td>\n",
       "      <td>[home, to, in, ', back, to, !]</td>\n",
       "      <td>7</td>\n",
       "    </tr>\n",
       "    <tr>\n",
       "      <th>4416</th>\n",
       "      <td>4417</td>\n",
       "      <td>20-2-2015 7:49</td>\n",
       "      <td>SMHillman</td>\n",
       "      <td>New York. NY</td>\n",
       "      <td>0.0</td>\n",
       "      <td>gr8  crew on  123 to  they're</td>\n",
       "      <td>jetblue</td>\n",
       "      <td>[mint, flight, lax, mintalicious, truebluelove...</td>\n",
       "      <td>[]</td>\n",
       "      <td>[gr8, crew, on, 123, to, they, 're]</td>\n",
       "      <td>8</td>\n",
       "    </tr>\n",
       "  </tbody>\n",
       "</table>\n",
       "</div>"
      ],
      "text/plain": [
       "      tweet_id    tweet_created             name          tweet_location  \\\n",
       "4839      4840  20-2-2015 11:57  southxnortheast  key west to bar harbor   \n",
       "8163      8164  22-2-2015 12:35      livingfitly          Washington. DC   \n",
       "4416      4417   20-2-2015 7:49        SMHillman            New York. NY   \n",
       "\n",
       "      retweet_count                                              ascii  \\\n",
       "4839            2.0   saving my sanity. leaving it behind for sunsh...   \n",
       "8163            0.0                        home to    in'  back to !     \n",
       "4416            0.0                 gr8  crew on  123 to  they're        \n",
       "\n",
       "      airline_clean                                               tags  \\\n",
       "4839        jetblue  [escape, fl, bliss, travel, indenial, whatfroz...   \n",
       "8163  virginamerica  [flight, dc, sunset, globe, backtowinter, work...   \n",
       "4416        jetblue  [mint, flight, lax, mintalicious, truebluelove...   \n",
       "\n",
       "                          urls  \\\n",
       "4839  [http://t.co/6ttzejv3hy]   \n",
       "8163  [http://t.co/vx9vbctdlf]   \n",
       "4416                        []   \n",
       "\n",
       "                                         tokenized_text  ctags  \n",
       "4839  [saving, my, sanity, ., leaving, it, behind, f...      6  \n",
       "8163                     [home, to, in, ', back, to, !]      7  \n",
       "4416                [gr8, crew, on, 123, to, they, 're]      8  "
      ]
     },
     "execution_count": 92,
     "metadata": {},
     "output_type": "execute_result"
    }
   ],
   "source": [
    "df.sort_values(by='ctags').tail(3)"
   ]
  },
  {
   "cell_type": "code",
   "execution_count": 124,
   "metadata": {
    "collapsed": false
   },
   "outputs": [],
   "source": [
    "tt = df[df['ctags'] != 0]\n",
    "ll = tt.tags.values.tolist()\n",
    "llt = [item for sublist in ll for item in sublist]\n",
    "newl = filter(lambda x: len(x)>0, llt) \n"
   ]
  },
  {
   "cell_type": "code",
   "execution_count": 129,
   "metadata": {
    "collapsed": false
   },
   "outputs": [
    {
     "data": {
      "text/plain": [
       "[('destinationdragons', 76),\n",
       " ('fail', 63),\n",
       " ('jetblue', 43),\n",
       " ('unitedairlines', 43),\n",
       " ('customerservice', 34),\n",
       " ('usairways', 30),\n",
       " ('neveragain', 26),\n",
       " ('usairwaysfail', 26),\n",
       " ('united', 25),\n",
       " ('americanairlines', 24)]"
      ]
     },
     "execution_count": 129,
     "metadata": {},
     "output_type": "execute_result"
    }
   ],
   "source": [
    "from collections import Counter\n",
    "c = Counter(newl)\n",
    "c.most_common(10)"
   ]
  },
  {
   "cell_type": "markdown",
   "metadata": {},
   "source": [
    "Todo:\n",
    " - clean up tags (remove non a-z)\n",
    " - top most tags by airline\n",
    " - sentiment analysis"
   ]
  }
 ],
 "metadata": {
  "kernelspec": {
   "display_name": "Python 2",
   "language": "python",
   "name": "python2"
  },
  "language_info": {
   "codemirror_mode": {
    "name": "ipython",
    "version": 2
   },
   "file_extension": ".py",
   "mimetype": "text/x-python",
   "name": "python",
   "nbconvert_exporter": "python",
   "pygments_lexer": "ipython2",
   "version": "2.7.10"
  }
 },
 "nbformat": 4,
 "nbformat_minor": 0
}
